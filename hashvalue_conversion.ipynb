{
 "cells": [
  {
   "cell_type": "code",
   "execution_count": 11,
   "id": "d16bae2e-e40d-46f4-9740-42ccb75eb2be",
   "metadata": {},
   "outputs": [
    {
     "name": "stdout",
     "output_type": "stream",
     "text": [
      "Hexadecimal value: 122095f8213310a8ef4535e4036d11c1379f793a76ecdab7e1c9c97857a79afab6ab\n"
     ]
    }
   ],
   "source": [
    "import base58\n",
    "\n",
    "# Base58 hash value\n",
    "base58_hash = \"QmYS4uN9m9UT9dyrncgTbv6ox8oisaRrH1iotBzciGaH7Q\"\n",
    "\n",
    "# Decode the Base58 hash to bytes\n",
    "decoded_bytes = base58.b58decode(base58_hash)\n",
    "\n",
    "# Convert bytes to hexadecimal representation\n",
    "hex_value = decoded_bytes.hex()\n",
    "\n",
    "print(\"Hexadecimal value:\", hex_value)\n"
   ]
  },
  {
   "cell_type": "code",
   "execution_count": null,
   "id": "c0dd9bbf-0d35-4bf5-8adc-90853936e9a8",
   "metadata": {},
   "outputs": [],
   "source": []
  }
 ],
 "metadata": {
  "kernelspec": {
   "display_name": "Python 3 (ipykernel)",
   "language": "python",
   "name": "python3"
  },
  "language_info": {
   "codemirror_mode": {
    "name": "ipython",
    "version": 3
   },
   "file_extension": ".py",
   "mimetype": "text/x-python",
   "name": "python",
   "nbconvert_exporter": "python",
   "pygments_lexer": "ipython3",
   "version": "3.11.7"
  }
 },
 "nbformat": 4,
 "nbformat_minor": 5
}
